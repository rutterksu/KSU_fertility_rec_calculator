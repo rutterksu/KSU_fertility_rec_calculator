{
 "cells": [
  {
   "cell_type": "markdown",
   "metadata": {},
   "source": [
    "# Semester project\n",
    "\n",
    "## Objective:\n",
    "\n",
    "Create function(s) to automate the calculation of lime and fertilizer application rates based on soil test results from the KSRE Soil Testing Laboratory.\n",
    "\n",
    "## Rationale:\n",
    "\n",
    "Fertilizer ammendments are often required to correct nutrient deficiencies in agricultural production systems. Over-fertilization increases the risk of eutrophication of surface water, while under-fertilization can lead to reduced crop yield, quality, and farm profitability. Fertilizer application rates should be determined guided by soil tests when possible to improve their accuracy. However, these calculations may involve several variables and may be cumbersome to calculate by hand. The KSRE Soil Testing Lab provides soil testing services and fertilizer recommendations to Kansas homeowners and producers. Fertilizer recommendations are reported via PDF and excel documents compiled by proprietary third-party software. The equations used to calculate fertilizer application rates are freely available to the public, but the software used by the lab is a \"black box\" in some ways. Current tools used by the lab to validate our recommended application rates largely involve copy/pasting soil test values into an excel-based calculator or hand calculation. This process can be tedious and prone to transcription errors. Automating this process could improve the workflow of the lab and make it easier to diagnose problems in the third-party software.\n",
    "\n",
    "## Outcomes\n",
    "\n",
    "Input data consists of measurements of crop type, tillage practice, soil pH, buffer pH, and plant available-P, -K, and -N. Functions will be based on equations from KSU Fact Sheet MF-2586 and applied to these data. The output should be an excel file with 9 columns sampleID, lime_rate, delta_lime, N_rate, delta_N, P2O5_rate, delta_P2O5, K2O_rate, delta_K2O.\n",
    "\n",
    "## Sketch\n",
    "<img src=\"Project_schematic.png\" alt=\"workflow\" width=\"750\"/>\n",
    "\n",
    "## References\n",
    "\n",
    "KSU Fact Sheet __MF-2586__: _Soil Test Inerpretations and Fertilizer Recommendations_"
   ]
  }
 ],
 "metadata": {
  "kernelspec": {
   "display_name": "Python 3",
   "language": "python",
   "name": "python3"
  },
  "language_info": {
   "codemirror_mode": {
    "name": "ipython",
    "version": 3
   },
   "file_extension": ".py",
   "mimetype": "text/x-python",
   "name": "python",
   "nbconvert_exporter": "python",
   "pygments_lexer": "ipython3",
   "version": "3.7.4"
  }
 },
 "nbformat": 4,
 "nbformat_minor": 4
}
